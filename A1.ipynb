{
 "cells": [
  {
   "cell_type": "code",
   "execution_count": 82,
   "metadata": {},
   "outputs": [],
   "source": [
    "import pandas as pd\n",
    "from imblearn.over_sampling import ADASYN\n",
    "from sklearn.preprocessing import MinMaxScaler\n",
    "from sklearn.model_selection import train_test_split\n",
    "from sklearn.tree import DecisionTreeClassifier \n",
    "from sklearn.metrics import classification_report\n",
    "from sklearn.metrics import roc_curve, roc_auc_score, auc\n",
    "df=pd.read_csv('creditcard.csv')"
   ]
  },
  {
   "cell_type": "code",
   "execution_count": 83,
   "metadata": {},
   "outputs": [],
   "source": [
    "\n",
    "#Data Settings\n",
    "X = df.drop(['Class'], axis=1)\n",
    "y = df['Class']\n",
    "rs= 2023\n",
    "#Standardize\n",
    "mm = MinMaxScaler()\n",
    "X['nTime'] = mm.fit_transform(X['Time'].values.reshape(-1, 1))\n",
    "X = X.drop(['Time'], axis=1)\n",
    "cols = X.columns.to_list()\n",
    "cols =[cols[-1]]+cols[:-1]\n",
    "X = X[cols]\n",
    "X['nAmount'] = mm.fit_transform(X['Amount'].values.reshape(-1,1))\n",
    "X = X.drop(['Amount'], axis=1)\n",
    "\n",
    "X_train, X_left, y_train, y_left = train_test_split(X, y, train_size=0.8, stratify=y, shuffle=True, random_state=rs)\n",
    "X_valid, X_test, y_valid, y_test = train_test_split(X_left,y_left, test_size=0.5, stratify=y_left, shuffle=True, random_state=rs)\n"
   ]
  },
  {
   "cell_type": "code",
   "execution_count": 84,
   "metadata": {},
   "outputs": [
    {
     "name": "stdout",
     "output_type": "stream",
     "text": [
      "227845\n"
     ]
    }
   ],
   "source": [
    "print(len(X_train))"
   ]
  },
  {
   "cell_type": "code",
   "execution_count": 85,
   "metadata": {},
   "outputs": [
    {
     "name": "stdout",
     "output_type": "stream",
     "text": [
      "              precision    recall  f1-score   support\n",
      "\n",
      "           0       1.00      1.00      1.00     28432\n",
      "           1       0.77      0.76      0.76        49\n",
      "\n",
      "    accuracy                           1.00     28481\n",
      "   macro avg       0.89      0.88      0.88     28481\n",
      "weighted avg       1.00      1.00      1.00     28481\n",
      "\n",
      "AUC: 0.8773575764014102\n"
     ]
    }
   ],
   "source": [
    "\n",
    "#Default Decision Tree With Raw data\n",
    "dTree = DecisionTreeClassifier(random_state=rs)\n",
    "\n",
    "dTree.fit(X_train, y_train)\n",
    "\n",
    "pred = dTree.predict(X_valid)\n",
    "print(classification_report(y_valid, pred))\n",
    "\n",
    "fpr, tpr, threshold = roc_curve(y_valid, pred,pos_label=1)\n",
    "auc1 = auc(fpr, tpr)\n",
    "\n",
    "print(\"AUC:\",auc1)"
   ]
  },
  {
   "cell_type": "code",
   "execution_count": 86,
   "metadata": {},
   "outputs": [
    {
     "name": "stdout",
     "output_type": "stream",
     "text": [
      "              precision    recall  f1-score   support\n",
      "\n",
      "           0       1.00      1.00      1.00     28432\n",
      "           1       0.82      0.76      0.79        49\n",
      "\n",
      "    accuracy                           1.00     28481\n",
      "   macro avg       0.91      0.88      0.89     28481\n",
      "weighted avg       1.00      1.00      1.00     28481\n",
      "\n",
      "AUC: 0.8774103338577974\n"
     ]
    }
   ],
   "source": [
    "weighted_dTree = DecisionTreeClassifier(class_weight='balanced', random_state=rs)\n",
    "\n",
    "weighted_dTree.fit(X_train, y_train)\n",
    "score = weighted_dTree.score(X_valid, y_valid)\n",
    "score\n",
    "pred_w = weighted_dTree.predict(X_valid)\n",
    "print(classification_report(y_valid, pred_w))\n",
    "\n",
    "fpr, tpr, threshold = roc_curve(y_valid, pred_w,pos_label=1)\n",
    "auc1 = auc(fpr, tpr)\n",
    "\n",
    "print(\"AUC:\", auc1)"
   ]
  },
  {
   "cell_type": "code",
   "execution_count": 87,
   "metadata": {},
   "outputs": [
    {
     "name": "stdout",
     "output_type": "stream",
     "text": [
      "              precision    recall  f1-score   support\n",
      "\n",
      "           0       1.00      1.00      1.00     28432\n",
      "           1       0.41      0.78      0.54        49\n",
      "\n",
      "    accuracy                           1.00     28481\n",
      "   macro avg       0.71      0.89      0.77     28481\n",
      "weighted avg       1.00      1.00      1.00     28481\n",
      "\n",
      "AUC 0.8868054678258472\n"
     ]
    }
   ],
   "source": [
    "ada = ADASYN(random_state= rs)\n",
    "df_res, c_res = ada.fit_resample(X_train, y_train)\n",
    "dTree = DecisionTreeClassifier(random_state=rs)\n",
    "\n",
    "\n",
    "dTree.fit(df_res, c_res)\n",
    "\n",
    "pred = dTree.predict(X_valid)\n",
    "print(classification_report(y_valid, pred))\n",
    "\n",
    "fpr, tpr, threshold = roc_curve(y_valid, pred,pos_label=1)\n",
    "auc1 = auc(fpr, tpr)\n",
    "print(\"AUC\", auc1)"
   ]
  },
  {
   "cell_type": "code",
   "execution_count": 88,
   "metadata": {},
   "outputs": [
    {
     "name": "stdout",
     "output_type": "stream",
     "text": [
      "454885\n"
     ]
    }
   ],
   "source": [
    "print(len(df_res))"
   ]
  },
  {
   "cell_type": "code",
   "execution_count": 89,
   "metadata": {},
   "outputs": [
    {
     "name": "stdout",
     "output_type": "stream",
     "text": [
      "              precision    recall  f1-score   support\n",
      "\n",
      "           0       1.00      1.00      1.00     28432\n",
      "           1       0.44      0.78      0.56        49\n",
      "\n",
      "    accuracy                           1.00     28481\n",
      "   macro avg       0.72      0.89      0.78     28481\n",
      "weighted avg       1.00      1.00      1.00     28481\n",
      "\n",
      "AUC 0.8868054678258472\n"
     ]
    }
   ],
   "source": [
    "weighted_dTree = DecisionTreeClassifier(class_weight='balanced', random_state=rs)\n",
    "\n",
    "weighted_dTree.fit(df_res, c_res)\n",
    "score = weighted_dTree.score(X_valid, y_valid)\n",
    "score\n",
    "pred_w = weighted_dTree.predict(X_valid)\n",
    "print(classification_report(y_valid, pred_w))\n",
    "\n",
    "fpr, tpr, threshold = roc_curve(y_valid, pred,pos_label=1)\n",
    "auc1 = auc(fpr, tpr)\n",
    "print(\"AUC\", auc1)"
   ]
  },
  {
   "cell_type": "code",
   "execution_count": null,
   "metadata": {},
   "outputs": [],
   "source": []
  }
 ],
 "metadata": {
  "kernelspec": {
   "display_name": "ds",
   "language": "python",
   "name": "python3"
  },
  "language_info": {
   "codemirror_mode": {
    "name": "ipython",
    "version": 3
   },
   "file_extension": ".py",
   "mimetype": "text/x-python",
   "name": "python",
   "nbconvert_exporter": "python",
   "pygments_lexer": "ipython3",
   "version": "3.11.2"
  },
  "orig_nbformat": 4
 },
 "nbformat": 4,
 "nbformat_minor": 2
}
